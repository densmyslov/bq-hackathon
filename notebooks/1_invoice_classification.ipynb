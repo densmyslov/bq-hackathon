{
  "nbformat": 4,
  "nbformat_minor": 0,
  "metadata": {
    "colab": {
      "provenance": [],
      "toc_visible": true,
      "mount_file_id": "1LMVbN3rQYneiTZABI5in4WewA2ZGilm_",
      "authorship_tag": "ABX9TyNol7IBQ22gdiVb/f3EiTNV",
      "include_colab_link": true
    },
    "kernelspec": {
      "name": "python3",
      "display_name": "Python 3"
    },
    "language_info": {
      "name": "python"
    }
  },
  "cells": [
    {
      "cell_type": "markdown",
      "metadata": {
        "id": "view-in-github",
        "colab_type": "text"
      },
      "source": [
        "<a href=\"https://colab.research.google.com/github/densmyslov/bq-hackathon/blob/main/notebooks/1_invoice_classification.ipynb\" target=\"_parent\"><img src=\"https://colab.research.google.com/assets/colab-badge.svg\" alt=\"Open In Colab\"/></a>"
      ]
    },
    {
      "cell_type": "code",
      "execution_count": null,
      "metadata": {
        "id": "-kz3_Zwi-XH2"
      },
      "outputs": [],
      "source": []
    },
    {
      "cell_type": "markdown",
      "source": [
        "# Setup"
      ],
      "metadata": {
        "id": "wEhg9yUkgjCZ"
      }
    },
    {
      "cell_type": "code",
      "source": [
        "!pip install tiktoken -q"
      ],
      "metadata": {
        "id": "5ZFat0vwNU40"
      },
      "execution_count": 1,
      "outputs": []
    },
    {
      "cell_type": "code",
      "source": [
        "import os\n",
        "import pandas as pd\n",
        "import requests\n",
        "from io import BytesIO\n",
        "from google.cloud import storage\n",
        "import requests\n",
        "import pytz\n",
        "from datetime import datetime\n",
        "import json\n",
        "from typing import Dict, List, Any, Tuple, Optional\n",
        "from collections import defaultdict"
      ],
      "metadata": {
        "id": "npFQ-7CUgiej"
      },
      "execution_count": 2,
      "outputs": []
    },
    {
      "cell_type": "code",
      "source": [
        "from google.colab import auth\n",
        "auth.authenticate_user()"
      ],
      "metadata": {
        "id": "WSgZ2G4juota"
      },
      "execution_count": 3,
      "outputs": []
    },
    {
      "cell_type": "code",
      "source": [
        "from google.cloud import storage\n",
        "gcs_client = storage.Client()\n"
      ],
      "metadata": {
        "id": "S0bh032Og_zG"
      },
      "execution_count": 4,
      "outputs": []
    },
    {
      "cell_type": "code",
      "source": [
        "from google.cloud import bigquery\n",
        "bq_client = bigquery.Client(project='data-science-455302')"
      ],
      "metadata": {
        "id": "Ly6yl0GN2ctr"
      },
      "execution_count": 5,
      "outputs": []
    },
    {
      "cell_type": "code",
      "source": [
        "bucket_name = \"trump-political-ads\""
      ],
      "metadata": {
        "id": "yCmo-mmVFUuL"
      },
      "execution_count": 6,
      "outputs": []
    },
    {
      "cell_type": "code",
      "source": [
        "table_name = 'data-science-455302.trump_campaign_us_central1.text_docs_sample'"
      ],
      "metadata": {
        "id": "I7okgnI3-tfO"
      },
      "execution_count": 7,
      "outputs": []
    },
    {
      "cell_type": "markdown",
      "source": [
        "# Invoice classification\n",
        "\n",
        "* we will be using [AI.GENERATE_BOOL](https://cloud.google.com/bigquery/docs/reference/standard-sql/bigqueryml-syntax-ai-generate-bool) function"
      ],
      "metadata": {
        "id": "D4hU7gPk--kd"
      }
    },
    {
      "cell_type": "code",
      "source": [
        "PROJECT_ID = \"data-science-455302\"  # your GCP project\n",
        "REGION = \"us-central1\"              # region of your connection / dataset\n",
        "DATASET_ID = \"trump_campaign_us_central1\"         # dataset to store the remote model\n",
        "MODEL_NAME = \"mistral_medium\"       # name for the remote model\n",
        "SOURCE_TABLE = f\"{PROJECT_ID}.{DATASET_ID}.TRUMP_PDF_FILES\"\n",
        "CONNECTION_RESOURCE = \"24627479292.us-central1.576f28e4-61cc-464a-b136-da8b005649c8\""
      ],
      "metadata": {
        "id": "jjV7liW0Ikay"
      },
      "execution_count": 8,
      "outputs": []
    },
    {
      "cell_type": "code",
      "source": [
        "table = bq_client.get_table(SOURCE_TABLE)\n"
      ],
      "metadata": {
        "id": "C9if4OZfKWLI"
      },
      "execution_count": 9,
      "outputs": []
    },
    {
      "cell_type": "code",
      "source": [
        "df = bq_client.list_rows(table).to_dataframe()\n",
        "print(df.shape)"
      ],
      "metadata": {
        "colab": {
          "base_uri": "https://localhost:8080/"
        },
        "id": "jUQJGhS_KcBQ",
        "outputId": "ab1413ee-0a08-4147-b43d-57bb173b73a4"
      },
      "execution_count": 15,
      "outputs": [
        {
          "output_type": "stream",
          "name": "stdout",
          "text": [
            "(298, 4)\n"
          ]
        }
      ]
    },
    {
      "cell_type": "code",
      "source": [
        "'gs://trump-political-ads-sample/FCC/docs/02d41cf6-ef29-bb8a-4133-aabf796f6d24/DONALD J TRUMP PRESIDENT 2024 WWJ INVOICE 190045389/page_1.png'"
      ],
      "metadata": {
        "id": "T7L6O3dB0i7A"
      },
      "execution_count": null,
      "outputs": []
    },
    {
      "cell_type": "code",
      "source": [
        "df.sample(1)['image_key'].tolist()"
      ],
      "metadata": {
        "colab": {
          "base_uri": "https://localhost:8080/"
        },
        "id": "iF63C4T-LWrL",
        "outputId": "699efedf-d177-4c56-8d35-dd3125d71cb5"
      },
      "execution_count": 16,
      "outputs": [
        {
          "output_type": "execute_result",
          "data": {
            "text/plain": [
              "['gs://trump-political-ads-sample/FCC/docs/278ce850-7a66-7208-d171-893c6424d5c7/KSNV TRUMP 6214805 ORD/page_1.png']"
            ]
          },
          "metadata": {},
          "execution_count": 16
        }
      ]
    },
    {
      "cell_type": "code",
      "source": [
        "\n",
        "from PIL import Image\n",
        "import io\n",
        "\n",
        "bucket_name = \"trump-political-ads-sample\"\n",
        "blob_path   = \"FCC/docs/278ce850-7a66-7208-d171-893c6424d5c7/KSNV TRUMP 6214805 ORD/page_1.png\"\n",
        "bucket = gcs_client.bucket(bucket_name)\n",
        "blob   = bucket.blob(blob_path)\n",
        "\n",
        "buf = BytesIO()\n",
        "blob.download_to_file(buf)\n",
        "buf.seek(0)\n",
        "img = Image.open(buf)\n",
        "img.show()          # opens in local viewer if running desktop\n",
        "display(img)"
      ],
      "metadata": {
        "colab": {
          "base_uri": "https://localhost:8080/",
          "height": 512
        },
        "id": "MLUGbrev0219",
        "outputId": "9d2cfb1a-51cb-406b-bfcb-2b923d6abf97"
      },
      "execution_count": 21,
      "outputs": [
        {
          "output_type": "display_data",
          "data": {
            "text/plain": [
              "<PIL.PngImagePlugin.PngImageFile image mode=RGB size=640x495>"
            ],
            "image/png": "[encoded data removed]",
            "image/jpeg": "[encoded data removed]"
          },
          "metadata": {}
        }
      ]
    },
    {
      "cell_type": "markdown",
      "source": [
        "## Step 1. Use gemini-2.5-flash"
      ],
      "metadata": {
        "id": "JVNA-Aa7_iJS"
      }
    },
    {
      "cell_type": "markdown",
      "source": [
        "### One-row smoke test"
      ],
      "metadata": {
        "id": "qnBYlAPcAmnD"
      }
    },
    {
      "cell_type": "code",
      "source": [
        "bq_client = bigquery.Client(project=PROJECT_ID, location=REGION)  # location can be 'US' or your dataset location\n",
        "print(\"BQ client OK:\", bq_client.project)"
      ],
      "metadata": {
        "colab": {
          "base_uri": "https://localhost:8080/"
        },
        "id": "EYWQxtx3IqSL",
        "outputId": "94e3d936-a579-4a5f-92c7-e5dbeb6a67f2"
      },
      "execution_count": 29,
      "outputs": [
        {
          "output_type": "stream",
          "name": "stdout",
          "text": [
            "BQ client OK: data-science-455302\n"
          ]
        }
      ]
    },
    {
      "cell_type": "code",
      "source": [
        "# ONE-ROW SMOKE TEST\n",
        "sql = f\"\"\"\n",
        "WITH src AS (\n",
        "  SELECT\n",
        "    image_key,\n",
        "    REPLACE(\n",
        "      REPLACE(image_key,\n",
        "              'gs://trump-political-ads-sample/',\n",
        "              'https://storage.googleapis.com/trump-political-ads-sample/'),\n",
        "      ' ', '%20'\n",
        "    ) AS url\n",
        "  FROM `{SOURCE_TABLE}`\n",
        "  WHERE ENDS_WITH(LOWER(image_key), '.png')\n",
        "  LIMIT 1\n",
        ")\n",
        "SELECT\n",
        "  image_key,\n",
        "  (AI.GENERATE_BOOL(\n",
        "     ('Is this an invoice? Answer strictly True or False.', url),\n",
        "     connection_id => '{CONNECTION_RESOURCE}',   -- still required by BigQuery AI\n",
        "     endpoint      => 'gemini-2.5-flash'\n",
        "   )).result        AS is_invoice,\n",
        "  (AI.GENERATE_BOOL(\n",
        "     ('Is this an invoice? Answer strictly True or False.', url),\n",
        "     connection_id => '{CONNECTION_RESOURCE}',\n",
        "     endpoint      => 'gemini-2.5-flash'\n",
        "   )).status        AS status,\n",
        "  (AI.GENERATE_BOOL(\n",
        "     ('Is this an invoice? Answer strictly True or False.', url),\n",
        "     connection_id => '{CONNECTION_RESOURCE}',\n",
        "     endpoint      => 'gemini-2.5-flash'\n",
        "   )).full_response AS full_response\n",
        "FROM src\n",
        "\"\"\"\n",
        "df = bq_client.query(sql).to_dataframe()\n"
      ],
      "metadata": {
        "id": "LuLmkVxD-HiB"
      },
      "execution_count": 53,
      "outputs": []
    },
    {
      "cell_type": "code",
      "source": [
        "df"
      ],
      "metadata": {
        "colab": {
          "base_uri": "https://localhost:8080/",
          "height": 89
        },
        "id": "3szPaN8C8mWj",
        "outputId": "d9b178a5-c5aa-4051-8306-2175bf893d25"
      },
      "execution_count": 54,
      "outputs": [
        {
          "output_type": "execute_result",
          "data": {
            "text/plain": [
              "                                           image_key  is_invoice status  \\\n",
              "0  gs://trump-political-ads-sample/FCC/docs/d1575...       False          \n",
              "\n",
              "                                       full_response  \n",
              "0  {\"candidates\":[{\"avg_logprobs\":-24.57033843994...  "
            ],
            "text/html": [
              "\n",
              "  <div id=\"df-7ec3babd-7aa7-4bff-b99e-242e31da698f\" class=\"colab-df-container\">\n",
              "    <div>\n",
              "<style scoped>\n",
              "    .dataframe tbody tr th:only-of-type {\n",
              "        vertical-align: middle;\n",
              "    }\n",
              "\n",
              "    .dataframe tbody tr th {\n",
              "        vertical-align: top;\n",
              "    }\n",
              "\n",
              "    .dataframe thead th {\n",
              "        text-align: right;\n",
              "    }\n",
              "</style>\n",
              "<table border=\"1\" class=\"dataframe\">\n",
              "  <thead>\n",
              "    <tr style=\"text-align: right;\">\n",
              "      <th></th>\n",
              "      <th>image_key</th>\n",
              "      <th>is_invoice</th>\n",
              "      <th>status</th>\n",
              "      <th>full_response</th>\n",
              "    </tr>\n",
              "  </thead>\n",
              "  <tbody>\n",
              "    <tr>\n",
              "      <th>0</th>\n",
              "      <td>gs://trump-political-ads-sample/FCC/docs/d1575...</td>\n",
              "      <td>False</td>\n",
              "      <td></td>\n",
              "      <td>{\"candidates\":[{\"avg_logprobs\":-24.57033843994...</td>\n",
              "    </tr>\n",
              "  </tbody>\n",
              "</table>\n",
              "</div>\n",
              "    <div class=\"colab-df-buttons\">\n",
              "\n",
              "  <div class=\"colab-df-container\">\n",
              "    <button class=\"colab-df-convert\" onclick=\"convertToInteractive('df-7ec3babd-7aa7-4bff-b99e-242e31da698f')\"\n",
              "            title=\"Convert this dataframe to an interactive table.\"\n",
              "            style=\"display:none;\">\n",
              "\n",
              "  <svg xmlns=\"http://www.w3.org/2000/svg\" height=\"24px\" viewBox=\"0 -960 960 960\">\n",
              "    <path d=\"M120-120v-720h720v720H120Zm60-500h600v-160H180v160Zm220 220h160v-160H400v160Zm0 220h160v-160H400v160ZM180-400h160v-160H180v160Zm440 0h160v-160H620v160ZM180-180h160v-160H180v160Zm440 0h160v-160H620v160Z\"/>\n",
              "  </svg>\n",
              "    </button>\n",
              "\n",
              "  <style>\n",
              "    .colab-df-container {\n",
              "      display:flex;\n",
              "      gap: 12px;\n",
              "    }\n",
              "\n",
              "    .colab-df-convert {\n",
              "      background-color: #E8F0FE;\n",
              "      border: none;\n",
              "      border-radius: 50%;\n",
              "      cursor: pointer;\n",
              "      display: none;\n",
              "      fill: #1967D2;\n",
              "      height: 32px;\n",
              "      padding: 0 0 0 0;\n",
              "      width: 32px;\n",
              "    }\n",
              "\n",
              "    .colab-df-convert:hover {\n",
              "      background-color: #E2EBFA;\n",
              "      box-shadow: 0px 1px 2px rgba(60, 64, 67, 0.3), 0px 1px 3px 1px rgba(60, 64, 67, 0.15);\n",
              "      fill: #174EA6;\n",
              "    }\n",
              "\n",
              "    .colab-df-buttons div {\n",
              "      margin-bottom: 4px;\n",
              "    }\n",
              "\n",
              "    [theme=dark] .colab-df-convert {\n",
              "      background-color: #3B4455;\n",
              "      fill: #D2E3FC;\n",
              "    }\n",
              "\n",
              "    [theme=dark] .colab-df-convert:hover {\n",
              "      background-color: #434B5C;\n",
              "      box-shadow: 0px 1px 3px 1px rgba(0, 0, 0, 0.15);\n",
              "      filter: drop-shadow(0px 1px 2px rgba(0, 0, 0, 0.3));\n",
              "      fill: #FFFFFF;\n",
              "    }\n",
              "  </style>\n",
              "\n",
              "    <script>\n",
              "      const buttonEl =\n",
              "        document.querySelector('#df-7ec3babd-7aa7-4bff-b99e-242e31da698f button.colab-df-convert');\n",
              "      buttonEl.style.display =\n",
              "        google.colab.kernel.accessAllowed ? 'block' : 'none';\n",
              "\n",
              "      async function convertToInteractive(key) {\n",
              "        const element = document.querySelector('#df-7ec3babd-7aa7-4bff-b99e-242e31da698f');\n",
              "        const dataTable =\n",
              "          await google.colab.kernel.invokeFunction('convertToInteractive',\n",
              "                                                    [key], {});\n",
              "        if (!dataTable) return;\n",
              "\n",
              "        const docLinkHtml = 'Like what you see? Visit the ' +\n",
              "          '<a target=\"_blank\" href=https://colab.research.google.com/notebooks/data_table.ipynb>data table notebook</a>'\n",
              "          + ' to learn more about interactive tables.';\n",
              "        element.innerHTML = '';\n",
              "        dataTable['output_type'] = 'display_data';\n",
              "        await google.colab.output.renderOutput(dataTable, element);\n",
              "        const docLink = document.createElement('div');\n",
              "        docLink.innerHTML = docLinkHtml;\n",
              "        element.appendChild(docLink);\n",
              "      }\n",
              "    </script>\n",
              "  </div>\n",
              "\n",
              "\n",
              "  <div id=\"id_2daecb54-d434-4752-9d4c-dc77b3d31925\">\n",
              "    <style>\n",
              "      .colab-df-generate {\n",
              "        background-color: #E8F0FE;\n",
              "        border: none;\n",
              "        border-radius: 50%;\n",
              "        cursor: pointer;\n",
              "        display: none;\n",
              "        fill: #1967D2;\n",
              "        height: 32px;\n",
              "        padding: 0 0 0 0;\n",
              "        width: 32px;\n",
              "      }\n",
              "\n",
              "      .colab-df-generate:hover {\n",
              "        background-color: #E2EBFA;\n",
              "        box-shadow: 0px 1px 2px rgba(60, 64, 67, 0.3), 0px 1px 3px 1px rgba(60, 64, 67, 0.15);\n",
              "        fill: #174EA6;\n",
              "      }\n",
              "\n",
              "      [theme=dark] .colab-df-generate {\n",
              "        background-color: #3B4455;\n",
              "        fill: #D2E3FC;\n",
              "      }\n",
              "\n",
              "      [theme=dark] .colab-df-generate:hover {\n",
              "        background-color: #434B5C;\n",
              "        box-shadow: 0px 1px 3px 1px rgba(0, 0, 0, 0.15);\n",
              "        filter: drop-shadow(0px 1px 2px rgba(0, 0, 0, 0.3));\n",
              "        fill: #FFFFFF;\n",
              "      }\n",
              "    </style>\n",
              "    <button class=\"colab-df-generate\" onclick=\"generateWithVariable('df')\"\n",
              "            title=\"Generate code using this dataframe.\"\n",
              "            style=\"display:none;\">\n",
              "\n",
              "  <svg xmlns=\"http://www.w3.org/2000/svg\" height=\"24px\"viewBox=\"0 0 24 24\"\n",
              "       width=\"24px\">\n",
              "    <path d=\"M7,19H8.4L18.45,9,17,7.55,7,17.6ZM5,21V16.75L18.45,3.32a2,2,0,0,1,2.83,0l1.4,1.43a1.91,1.91,0,0,1,.58,1.4,1.91,1.91,0,0,1-.58,1.4L9.25,21ZM18.45,9,17,7.55Zm-12,3A5.31,5.31,0,0,0,4.9,8.1,5.31,5.31,0,0,0,1,6.5,5.31,5.31,0,0,0,4.9,4.9,5.31,5.31,0,0,0,6.5,1,5.31,5.31,0,0,0,8.1,4.9,5.31,5.31,0,0,0,12,6.5,5.46,5.46,0,0,0,6.5,12Z\"/>\n",
              "  </svg>\n",
              "    </button>\n",
              "    <script>\n",
              "      (() => {\n",
              "      const buttonEl =\n",
              "        document.querySelector('#id_2daecb54-d434-4752-9d4c-dc77b3d31925 button.colab-df-generate');\n",
              "      buttonEl.style.display =\n",
              "        google.colab.kernel.accessAllowed ? 'block' : 'none';\n",
              "\n",
              "      buttonEl.onclick = () => {\n",
              "        google.colab.notebook.generateWithVariable('df');\n",
              "      }\n",
              "      })();\n",
              "    </script>\n",
              "  </div>\n",
              "\n",
              "    </div>\n",
              "  </div>\n"
            ],
            "application/vnd.google.colaboratory.intrinsic+json": {
              "type": "dataframe",
              "variable_name": "df",
              "summary": "{\n  \"name\": \"df\",\n  \"rows\": 1,\n  \"fields\": [\n    {\n      \"column\": \"image_key\",\n      \"properties\": {\n        \"dtype\": \"string\",\n        \"num_unique_values\": 1,\n        \"samples\": [\n          \"gs://trump-political-ads-sample/FCC/docs/d15755d5-c317-6900-c35b-cee4861d8d20/104630 Trump General NAB est 11809 10-3 10-7-24 103-105 RAMDT2403H Nonsense Again 30-RAMDT2406H Give a Frack 30 5050% 106-107 RAMDT2406H Give a Frack 30-RAMDT2405H Unbelievable 30 5050%/page_1.png\"\n        ],\n        \"semantic_type\": \"\",\n        \"description\": \"\"\n      }\n    },\n    {\n      \"column\": \"is_invoice\",\n      \"properties\": {\n        \"dtype\": \"boolean\",\n        \"num_unique_values\": 1,\n        \"samples\": [\n          false\n        ],\n        \"semantic_type\": \"\",\n        \"description\": \"\"\n      }\n    },\n    {\n      \"column\": \"status\",\n      \"properties\": {\n        \"dtype\": \"object\",\n        \"num_unique_values\": 1,\n        \"samples\": [\n          \"\"\n        ],\n        \"semantic_type\": \"\",\n        \"description\": \"\"\n      }\n    },\n    {\n      \"column\": \"full_response\",\n      \"properties\": {\n        \"dtype\": \"string\",\n        \"num_unique_values\": 1,\n        \"samples\": [\n          \"{\\\"candidates\\\":[{\\\"avg_logprobs\\\":-24.570338439941406,\\\"content\\\":{\\\"parts\\\":[{\\\"text\\\":\\\"{\\\\\\\"answer\\\\\\\": false}\\\"}],\\\"role\\\":\\\"model\\\"},\\\"finish_reason\\\":\\\"STOP\\\",\\\"score\\\":-122.85169219970703}],\\\"create_time\\\":\\\"2025-09-17T09:19:58.342794Z\\\",\\\"model_version\\\":\\\"gemini-2.5-flash\\\",\\\"response_id\\\":\\\"Pn3KaIr2FPOThMIP5fnL8As\\\",\\\"usage_metadata\\\":{\\\"billable_prompt_usage\\\":{\\\"text_count\\\":402},\\\"candidates_token_count\\\":5,\\\"candidates_tokens_details\\\":[{\\\"modality\\\":\\\"TEXT\\\",\\\"token_count\\\":5}],\\\"prompt_token_count\\\":251,\\\"prompt_tokens_details\\\":[{\\\"modality\\\":\\\"TEXT\\\",\\\"token_count\\\":251}],\\\"thoughts_token_count\\\":246,\\\"total_token_count\\\":502,\\\"traffic_type\\\":\\\"ON_DEMAND\\\"}}\"\n        ],\n        \"semantic_type\": \"\",\n        \"description\": \"\"\n      }\n    }\n  ]\n}"
            }
          },
          "metadata": {},
          "execution_count": 54
        }
      ]
    },
    {
      "cell_type": "code",
      "source": [
        "resp = df['full_response'].tolist()[0]\n",
        "resp = json.loads(resp)\n",
        "resp"
      ],
      "metadata": {
        "colab": {
          "base_uri": "https://localhost:8080/"
        },
        "id": "Mznbicgo-ii6",
        "outputId": "d0fcea0b-50cd-4f73-9fd2-bcf5bc8c5f7a"
      },
      "execution_count": 65,
      "outputs": [
        {
          "output_type": "execute_result",
          "data": {
            "text/plain": [
              "{'candidates': [{'avg_logprobs': -24.570338439941406,\n",
              "   'content': {'parts': [{'text': '{\"answer\": false}'}], 'role': 'model'},\n",
              "   'finish_reason': 'STOP',\n",
              "   'score': -122.85169219970703}],\n",
              " 'create_time': '2025-09-17T09:19:58.342794Z',\n",
              " 'model_version': 'gemini-2.5-flash',\n",
              " 'response_id': 'Pn3KaIr2FPOThMIP5fnL8As',\n",
              " 'usage_metadata': {'billable_prompt_usage': {'text_count': 402},\n",
              "  'candidates_token_count': 5,\n",
              "  'candidates_tokens_details': [{'modality': 'TEXT', 'token_count': 5}],\n",
              "  'prompt_token_count': 251,\n",
              "  'prompt_tokens_details': [{'modality': 'TEXT', 'token_count': 251}],\n",
              "  'thoughts_token_count': 246,\n",
              "  'total_token_count': 502,\n",
              "  'traffic_type': 'ON_DEMAND'}}"
            ]
          },
          "metadata": {},
          "execution_count": 65
        }
      ]
    },
    {
      "cell_type": "code",
      "source": [
        "resp['usage_metadata']"
      ],
      "metadata": {
        "colab": {
          "base_uri": "https://localhost:8080/"
        },
        "id": "jE7e5kfsAzli",
        "outputId": "03cd8101-004c-4ca3-8981-7b128ef95fd5"
      },
      "execution_count": 67,
      "outputs": [
        {
          "output_type": "execute_result",
          "data": {
            "text/plain": [
              "{'billable_prompt_usage': {'text_count': 402},\n",
              " 'candidates_token_count': 5,\n",
              " 'candidates_tokens_details': [{'modality': 'TEXT', 'token_count': 5}],\n",
              " 'prompt_token_count': 251,\n",
              " 'prompt_tokens_details': [{'modality': 'TEXT', 'token_count': 251}],\n",
              " 'thoughts_token_count': 246,\n",
              " 'total_token_count': 502,\n",
              " 'traffic_type': 'ON_DEMAND'}"
            ]
          },
          "metadata": {},
          "execution_count": 67
        }
      ]
    },
    {
      "cell_type": "markdown",
      "source": [
        "our \"smoke test\" request showed the following token usage:\n",
        "* input tokens: `251+246 = 497 tokens @ $ 0.30 / mm`\n",
        "* output tokens: `5 @ $ 2.5 / mm`"
      ],
      "metadata": {
        "id": "uJqjMvviDBUQ"
      }
    },
    {
      "cell_type": "code",
      "source": [
        "# --- 1) Classify ALL images (png/jpg/jpeg). Handles spaces; no model_params.\n",
        "# Converts: gs://bucket/path -> https://storage.googleapis.com/bucket/path\n",
        "\n",
        "DEST_TABLE   = f\"{PROJECT_ID}.{DATASET_ID}.TRUMP_IMAGE_FLAGS\"\n",
        "\n",
        "\n",
        "sql = f\"\"\"\n",
        "CREATE OR REPLACE TABLE `{DEST_TABLE}` AS\n",
        "WITH src AS (\n",
        "  SELECT\n",
        "    image_key,\n",
        "    -- Convert to public HTTPS and URL-encode spaces\n",
        "    REPLACE(\n",
        "      REPLACE(image_key, 'gs://', 'https://storage.googleapis.com/'),\n",
        "      ' ', '%20'\n",
        "    ) AS url\n",
        "  FROM `{SOURCE_TABLE}`\n",
        "  WHERE image_key IS NOT NULL\n",
        "    AND REGEXP_CONTAINS(LOWER(image_key), r'\\\\.(png|jpg|jpeg)$')\n",
        ")\n",
        "SELECT\n",
        "  image_key,\n",
        "  AI.GENERATE_BOOL(\n",
        "    ('Is this image an invoice? Answer strictly True or False.', url),\n",
        "    connection_id => '{CONNECTION_RESOURCE}',\n",
        "    endpoint      => 'gemini-2.5-flash'\n",
        "  ).result AS is_invoice\n",
        "FROM src\n",
        "\"\"\"\n",
        "bq_client.query(sql).result()\n",
        "print(\"✅ Created:\", DEST_TABLE)\n"
      ],
      "metadata": {
        "colab": {
          "base_uri": "https://localhost:8080/"
        },
        "id": "isg7Dk0qF7vh",
        "outputId": "0e8f37e3-4dc7-4b6b-d787-77915d2b16e1"
      },
      "execution_count": 68,
      "outputs": [
        {
          "output_type": "stream",
          "name": "stdout",
          "text": [
            "✅ Created: data-science-455302.trump_campaign_us_central1.TRUMP_IMAGE_FLAGS\n"
          ]
        }
      ]
    },
    {
      "cell_type": "markdown",
      "source": [
        "let's check results:"
      ],
      "metadata": {
        "id": "4OCHCDhEGvCA"
      }
    },
    {
      "cell_type": "code",
      "source": [
        "# --- 2) Sanity check\n",
        "df = bq_client.query(f\"\"\"\n",
        "SELECT\n",
        "  COUNT(*) AS total,\n",
        "  COUNTIF(is_invoice IS TRUE)  AS n_true,\n",
        "  COUNTIF(is_invoice IS FALSE) AS n_false,\n",
        "  COUNTIF(is_invoice IS NULL)  AS n_null\n",
        "FROM `{DEST_TABLE}`\n",
        "\"\"\").to_dataframe()\n",
        "df"
      ],
      "metadata": {
        "colab": {
          "base_uri": "https://localhost:8080/",
          "height": 89
        },
        "id": "QEm9tWlJGbww",
        "outputId": "232759ad-3ad5-4296-a55f-1af7d8cb64ae"
      },
      "execution_count": 71,
      "outputs": [
        {
          "output_type": "execute_result",
          "data": {
            "text/plain": [
              "   total  n_true  n_false  n_null\n",
              "0    298     100      198       0"
            ],
            "text/html": [
              "\n",
              "  <div id=\"df-1a650826-6729-480d-b0ec-295490c78881\" class=\"colab-df-container\">\n",
              "    <div>\n",
              "<style scoped>\n",
              "    .dataframe tbody tr th:only-of-type {\n",
              "        vertical-align: middle;\n",
              "    }\n",
              "\n",
              "    .dataframe tbody tr th {\n",
              "        vertical-align: top;\n",
              "    }\n",
              "\n",
              "    .dataframe thead th {\n",
              "        text-align: right;\n",
              "    }\n",
              "</style>\n",
              "<table border=\"1\" class=\"dataframe\">\n",
              "  <thead>\n",
              "    <tr style=\"text-align: right;\">\n",
              "      <th></th>\n",
              "      <th>total</th>\n",
              "      <th>n_true</th>\n",
              "      <th>n_false</th>\n",
              "      <th>n_null</th>\n",
              "    </tr>\n",
              "  </thead>\n",
              "  <tbody>\n",
              "    <tr>\n",
              "      <th>0</th>\n",
              "      <td>298</td>\n",
              "      <td>100</td>\n",
              "      <td>198</td>\n",
              "      <td>0</td>\n",
              "    </tr>\n",
              "  </tbody>\n",
              "</table>\n",
              "</div>\n",
              "    <div class=\"colab-df-buttons\">\n",
              "\n",
              "  <div class=\"colab-df-container\">\n",
              "    <button class=\"colab-df-convert\" onclick=\"convertToInteractive('df-1a650826-6729-480d-b0ec-295490c78881')\"\n",
              "            title=\"Convert this dataframe to an interactive table.\"\n",
              "            style=\"display:none;\">\n",
              "\n",
              "  <svg xmlns=\"http://www.w3.org/2000/svg\" height=\"24px\" viewBox=\"0 -960 960 960\">\n",
              "    <path d=\"M120-120v-720h720v720H120Zm60-500h600v-160H180v160Zm220 220h160v-160H400v160Zm0 220h160v-160H400v160ZM180-400h160v-160H180v160Zm440 0h160v-160H620v160ZM180-180h160v-160H180v160Zm440 0h160v-160H620v160Z\"/>\n",
              "  </svg>\n",
              "    </button>\n",
              "\n",
              "  <style>\n",
              "    .colab-df-container {\n",
              "      display:flex;\n",
              "      gap: 12px;\n",
              "    }\n",
              "\n",
              "    .colab-df-convert {\n",
              "      background-color: #E8F0FE;\n",
              "      border: none;\n",
              "      border-radius: 50%;\n",
              "      cursor: pointer;\n",
              "      display: none;\n",
              "      fill: #1967D2;\n",
              "      height: 32px;\n",
              "      padding: 0 0 0 0;\n",
              "      width: 32px;\n",
              "    }\n",
              "\n",
              "    .colab-df-convert:hover {\n",
              "      background-color: #E2EBFA;\n",
              "      box-shadow: 0px 1px 2px rgba(60, 64, 67, 0.3), 0px 1px 3px 1px rgba(60, 64, 67, 0.15);\n",
              "      fill: #174EA6;\n",
              "    }\n",
              "\n",
              "    .colab-df-buttons div {\n",
              "      margin-bottom: 4px;\n",
              "    }\n",
              "\n",
              "    [theme=dark] .colab-df-convert {\n",
              "      background-color: #3B4455;\n",
              "      fill: #D2E3FC;\n",
              "    }\n",
              "\n",
              "    [theme=dark] .colab-df-convert:hover {\n",
              "      background-color: #434B5C;\n",
              "      box-shadow: 0px 1px 3px 1px rgba(0, 0, 0, 0.15);\n",
              "      filter: drop-shadow(0px 1px 2px rgba(0, 0, 0, 0.3));\n",
              "      fill: #FFFFFF;\n",
              "    }\n",
              "  </style>\n",
              "\n",
              "    <script>\n",
              "      const buttonEl =\n",
              "        document.querySelector('#df-1a650826-6729-480d-b0ec-295490c78881 button.colab-df-convert');\n",
              "      buttonEl.style.display =\n",
              "        google.colab.kernel.accessAllowed ? 'block' : 'none';\n",
              "\n",
              "      async function convertToInteractive(key) {\n",
              "        const element = document.querySelector('#df-1a650826-6729-480d-b0ec-295490c78881');\n",
              "        const dataTable =\n",
              "          await google.colab.kernel.invokeFunction('convertToInteractive',\n",
              "                                                    [key], {});\n",
              "        if (!dataTable) return;\n",
              "\n",
              "        const docLinkHtml = 'Like what you see? Visit the ' +\n",
              "          '<a target=\"_blank\" href=https://colab.research.google.com/notebooks/data_table.ipynb>data table notebook</a>'\n",
              "          + ' to learn more about interactive tables.';\n",
              "        element.innerHTML = '';\n",
              "        dataTable['output_type'] = 'display_data';\n",
              "        await google.colab.output.renderOutput(dataTable, element);\n",
              "        const docLink = document.createElement('div');\n",
              "        docLink.innerHTML = docLinkHtml;\n",
              "        element.appendChild(docLink);\n",
              "      }\n",
              "    </script>\n",
              "  </div>\n",
              "\n",
              "\n",
              "  <div id=\"id_7c31758e-a0af-4a70-b463-cedae42b155a\">\n",
              "    <style>\n",
              "      .colab-df-generate {\n",
              "        background-color: #E8F0FE;\n",
              "        border: none;\n",
              "        border-radius: 50%;\n",
              "        cursor: pointer;\n",
              "        display: none;\n",
              "        fill: #1967D2;\n",
              "        height: 32px;\n",
              "        padding: 0 0 0 0;\n",
              "        width: 32px;\n",
              "      }\n",
              "\n",
              "      .colab-df-generate:hover {\n",
              "        background-color: #E2EBFA;\n",
              "        box-shadow: 0px 1px 2px rgba(60, 64, 67, 0.3), 0px 1px 3px 1px rgba(60, 64, 67, 0.15);\n",
              "        fill: #174EA6;\n",
              "      }\n",
              "\n",
              "      [theme=dark] .colab-df-generate {\n",
              "        background-color: #3B4455;\n",
              "        fill: #D2E3FC;\n",
              "      }\n",
              "\n",
              "      [theme=dark] .colab-df-generate:hover {\n",
              "        background-color: #434B5C;\n",
              "        box-shadow: 0px 1px 3px 1px rgba(0, 0, 0, 0.15);\n",
              "        filter: drop-shadow(0px 1px 2px rgba(0, 0, 0, 0.3));\n",
              "        fill: #FFFFFF;\n",
              "      }\n",
              "    </style>\n",
              "    <button class=\"colab-df-generate\" onclick=\"generateWithVariable('df')\"\n",
              "            title=\"Generate code using this dataframe.\"\n",
              "            style=\"display:none;\">\n",
              "\n",
              "  <svg xmlns=\"http://www.w3.org/2000/svg\" height=\"24px\"viewBox=\"0 0 24 24\"\n",
              "       width=\"24px\">\n",
              "    <path d=\"M7,19H8.4L18.45,9,17,7.55,7,17.6ZM5,21V16.75L18.45,3.32a2,2,0,0,1,2.83,0l1.4,1.43a1.91,1.91,0,0,1,.58,1.4,1.91,1.91,0,0,1-.58,1.4L9.25,21ZM18.45,9,17,7.55Zm-12,3A5.31,5.31,0,0,0,4.9,8.1,5.31,5.31,0,0,0,1,6.5,5.31,5.31,0,0,0,4.9,4.9,5.31,5.31,0,0,0,6.5,1,5.31,5.31,0,0,0,8.1,4.9,5.31,5.31,0,0,0,12,6.5,5.46,5.46,0,0,0,6.5,12Z\"/>\n",
              "  </svg>\n",
              "    </button>\n",
              "    <script>\n",
              "      (() => {\n",
              "      const buttonEl =\n",
              "        document.querySelector('#id_7c31758e-a0af-4a70-b463-cedae42b155a button.colab-df-generate');\n",
              "      buttonEl.style.display =\n",
              "        google.colab.kernel.accessAllowed ? 'block' : 'none';\n",
              "\n",
              "      buttonEl.onclick = () => {\n",
              "        google.colab.notebook.generateWithVariable('df');\n",
              "      }\n",
              "      })();\n",
              "    </script>\n",
              "  </div>\n",
              "\n",
              "    </div>\n",
              "  </div>\n"
            ],
            "application/vnd.google.colaboratory.intrinsic+json": {
              "type": "dataframe",
              "variable_name": "df",
              "summary": "{\n  \"name\": \"df\",\n  \"rows\": 1,\n  \"fields\": [\n    {\n      \"column\": \"total\",\n      \"properties\": {\n        \"dtype\": \"Int64\",\n        \"num_unique_values\": 1,\n        \"samples\": [\n          298\n        ],\n        \"semantic_type\": \"\",\n        \"description\": \"\"\n      }\n    },\n    {\n      \"column\": \"n_true\",\n      \"properties\": {\n        \"dtype\": \"Int64\",\n        \"num_unique_values\": 1,\n        \"samples\": [\n          100\n        ],\n        \"semantic_type\": \"\",\n        \"description\": \"\"\n      }\n    },\n    {\n      \"column\": \"n_false\",\n      \"properties\": {\n        \"dtype\": \"Int64\",\n        \"num_unique_values\": 1,\n        \"samples\": [\n          198\n        ],\n        \"semantic_type\": \"\",\n        \"description\": \"\"\n      }\n    },\n    {\n      \"column\": \"n_null\",\n      \"properties\": {\n        \"dtype\": \"Int64\",\n        \"num_unique_values\": 1,\n        \"samples\": [\n          0\n        ],\n        \"semantic_type\": \"\",\n        \"description\": \"\"\n      }\n    }\n  ]\n}"
            }
          },
          "metadata": {},
          "execution_count": 71
        }
      ]
    },
    {
      "cell_type": "code",
      "source": [
        "# --- 3) (Optional) Write the flag back into your source table\n",
        "# Adds a BOOL column once, then MERGEs results by image_key\n",
        "bq_client.query(f\"\"\"\n",
        "ALTER TABLE `{SOURCE_TABLE}`\n",
        "ADD COLUMN IF NOT EXISTS is_invoice BOOL\n",
        "\"\"\").result()\n",
        "\n",
        "bq_client.query(f\"\"\"\n",
        "MERGE `{SOURCE_TABLE}` T\n",
        "USING `{DEST_TABLE}` R\n",
        "ON T.image_key = R.image_key\n",
        "WHEN MATCHED THEN\n",
        "  UPDATE SET T.is_invoice = R.is_invoice\n",
        "\"\"\").result()\n",
        "print(\"✅ Backfilled is_invoice into:\", SOURCE_TABLE)\n"
      ],
      "metadata": {
        "colab": {
          "base_uri": "https://localhost:8080/"
        },
        "id": "EbJUm27SGol3",
        "outputId": "579aa551-bdbe-4609-9679-6d4eb1e9b36d"
      },
      "execution_count": 72,
      "outputs": [
        {
          "output_type": "stream",
          "name": "stdout",
          "text": [
            "✅ Backfilled is_invoice into: data-science-455302.trump_campaign_us_central1.TRUMP_PDF_FILES\n"
          ]
        }
      ]
    },
    {
      "cell_type": "code",
      "source": [
        "sql = f\"SELECT * FROM `{SOURCE_TABLE}`\"\n",
        "df = bq_client.query(sql).to_dataframe()\n",
        "df.shape"
      ],
      "metadata": {
        "colab": {
          "base_uri": "https://localhost:8080/"
        },
        "id": "LT4uNHlxHLHd",
        "outputId": "c7ec91aa-dd57-484e-8707-a663ec341275"
      },
      "execution_count": 73,
      "outputs": [
        {
          "output_type": "execute_result",
          "data": {
            "text/plain": [
              "(298, 5)"
            ]
          },
          "metadata": {},
          "execution_count": 73
        }
      ]
    },
    {
      "cell_type": "code",
      "source": [
        "df.query(\"is_invoice==True\")"
      ],
      "metadata": {
        "colab": {
          "base_uri": "https://localhost:8080/",
          "height": 670
        },
        "id": "DT6OAs8QHQqI",
        "outputId": "a272488f-51e6-4f9f-b4b8-6fd0d51100dd"
      },
      "execution_count": 75,
      "outputs": [
        {
          "output_type": "stream",
          "name": "stderr",
          "text": [
            "/tmp/ipython-input-2430886783.py:1: RuntimeWarning: Engine has switched to 'python' because numexpr does not support extension array dtypes. Please set your engine to python manually.\n",
            "  df.query(\"is_invoice==True\")\n"
          ]
        },
        {
          "output_type": "execute_result",
          "data": {
            "text/plain": [
              "                                               pdf_key  \\\n",
              "198  gs://trump-political-ads-sample/FCC/docs/75d9b...   \n",
              "199  gs://trump-political-ads-sample/FCC/docs/4346c...   \n",
              "200  gs://trump-political-ads-sample/FCC/docs/66258...   \n",
              "201  gs://trump-political-ads-sample/FCC/docs/3e6f8...   \n",
              "202  gs://trump-political-ads-sample/FCC/docs/cc1f4...   \n",
              "..                                                 ...   \n",
              "293  gs://trump-political-ads-sample/FCC/docs/8206c...   \n",
              "294  gs://trump-political-ads-sample/FCC/docs/13f70...   \n",
              "295  gs://trump-political-ads-sample/FCC/docs/551c8...   \n",
              "296  gs://trump-political-ads-sample/FCC/docs/f281b...   \n",
              "297  gs://trump-political-ads-sample/FCC/docs/fec1b...   \n",
              "\n",
              "                                  file_id  \\\n",
              "198  75d9bd05-73b9-872f-d628-4bbf6b74a6a9   \n",
              "199  4346c01f-2971-6609-5e01-e9e8571ee40f   \n",
              "200  66258cca-52c1-a636-cc79-344eec0366d8   \n",
              "201  3e6f8fc4-ee71-63a6-100b-571a41671b20   \n",
              "202  cc1f40e6-884a-c531-57a4-2a2d9d92dd7b   \n",
              "..                                    ...   \n",
              "293  8206cefa-dbc6-6ea7-18ec-8ccd39b8de3d   \n",
              "294  13f70763-ec76-8496-c5e2-c5509f977181   \n",
              "295  551c8e8f-fa9f-ebcb-916f-cf8c01d9908f   \n",
              "296  f281bd07-fd54-b21e-7e8d-ffe2f80968ed   \n",
              "297  fec1b609-ac8f-72a5-bbf1-2898c038f221   \n",
              "\n",
              "                                             file_name  \\\n",
              "198                      4637128 Donald Trump 10.17.24   \n",
              "199           DONALD TRUMP FOR PRES- 4584146-1 INVOICE   \n",
              "200                                6193613 Invoice R-1   \n",
              "201  Donald J Trump for President 2024 est 12420 in...   \n",
              "202  DONALD J. TRUMP - WXLV - EST 11821 - 28450238 ...   \n",
              "..                                                 ...   \n",
              "293                             KVCW TRUMP 6204465 NAB   \n",
              "294                                   Trump - ACC 10.5   \n",
              "295  COMPLETE DONALD J TRUMP FOR PRESIDENT WRAZ EST...   \n",
              "296         DONALD TRUMP FOR PRES- 4633326-1 - INVOICE   \n",
              "297                KSAZ DJT est  11731 1381105--1 rev2   \n",
              "\n",
              "                                             image_key  is_invoice  \n",
              "198  gs://trump-political-ads-sample/FCC/docs/75d9b...        True  \n",
              "199  gs://trump-political-ads-sample/FCC/docs/4346c...        True  \n",
              "200  gs://trump-political-ads-sample/FCC/docs/66258...        True  \n",
              "201  gs://trump-political-ads-sample/FCC/docs/3e6f8...        True  \n",
              "202  gs://trump-political-ads-sample/FCC/docs/cc1f4...        True  \n",
              "..                                                 ...         ...  \n",
              "293  gs://trump-political-ads-sample/FCC/docs/8206c...        True  \n",
              "294  gs://trump-political-ads-sample/FCC/docs/13f70...        True  \n",
              "295  gs://trump-political-ads-sample/FCC/docs/551c8...        True  \n",
              "296  gs://trump-political-ads-sample/FCC/docs/f281b...        True  \n",
              "297  gs://trump-political-ads-sample/FCC/docs/fec1b...        True  \n",
              "\n",
              "[100 rows x 5 columns]"
            ],
            "text/html": [
              "\n",
              "  <div id=\"df-d66b2125-7aa1-4324-bf3f-2019b05e641f\" class=\"colab-df-container\">\n",
              "    <div>\n",
              "<style scoped>\n",
              "    .dataframe tbody tr th:only-of-type {\n",
              "        vertical-align: middle;\n",
              "    }\n",
              "\n",
              "    .dataframe tbody tr th {\n",
              "        vertical-align: top;\n",
              "    }\n",
              "\n",
              "    .dataframe thead th {\n",
              "        text-align: right;\n",
              "    }\n",
              "</style>\n",
              "<table border=\"1\" class=\"dataframe\">\n",
              "  <thead>\n",
              "    <tr style=\"text-align: right;\">\n",
              "      <th></th>\n",
              "      <th>pdf_key</th>\n",
              "      <th>file_id</th>\n",
              "      <th>file_name</th>\n",
              "      <th>image_key</th>\n",
              "      <th>is_invoice</th>\n",
              "    </tr>\n",
              "  </thead>\n",
              "  <tbody>\n",
              "    <tr>\n",
              "      <th>198</th>\n",
              "      <td>gs://trump-political-ads-sample/FCC/docs/75d9b...</td>\n",
              "      <td>75d9bd05-73b9-872f-d628-4bbf6b74a6a9</td>\n",
              "      <td>4637128 Donald Trump 10.17.24</td>\n",
              "      <td>gs://trump-political-ads-sample/FCC/docs/75d9b...</td>\n",
              "      <td>True</td>\n",
              "    </tr>\n",
              "    <tr>\n",
              "      <th>199</th>\n",
              "      <td>gs://trump-political-ads-sample/FCC/docs/4346c...</td>\n",
              "      <td>4346c01f-2971-6609-5e01-e9e8571ee40f</td>\n",
              "      <td>DONALD TRUMP FOR PRES- 4584146-1 INVOICE</td>\n",
              "      <td>gs://trump-political-ads-sample/FCC/docs/4346c...</td>\n",
              "      <td>True</td>\n",
              "    </tr>\n",
              "    <tr>\n",
              "      <th>200</th>\n",
              "      <td>gs://trump-political-ads-sample/FCC/docs/66258...</td>\n",
              "      <td>66258cca-52c1-a636-cc79-344eec0366d8</td>\n",
              "      <td>6193613 Invoice R-1</td>\n",
              "      <td>gs://trump-political-ads-sample/FCC/docs/66258...</td>\n",
              "      <td>True</td>\n",
              "    </tr>\n",
              "    <tr>\n",
              "      <th>201</th>\n",
              "      <td>gs://trump-political-ads-sample/FCC/docs/3e6f8...</td>\n",
              "      <td>3e6f8fc4-ee71-63a6-100b-571a41671b20</td>\n",
              "      <td>Donald J Trump for President 2024 est 12420 in...</td>\n",
              "      <td>gs://trump-political-ads-sample/FCC/docs/3e6f8...</td>\n",
              "      <td>True</td>\n",
              "    </tr>\n",
              "    <tr>\n",
              "      <th>202</th>\n",
              "      <td>gs://trump-political-ads-sample/FCC/docs/cc1f4...</td>\n",
              "      <td>cc1f40e6-884a-c531-57a4-2a2d9d92dd7b</td>\n",
              "      <td>DONALD J. TRUMP - WXLV - EST 11821 - 28450238 ...</td>\n",
              "      <td>gs://trump-political-ads-sample/FCC/docs/cc1f4...</td>\n",
              "      <td>True</td>\n",
              "    </tr>\n",
              "    <tr>\n",
              "      <th>...</th>\n",
              "      <td>...</td>\n",
              "      <td>...</td>\n",
              "      <td>...</td>\n",
              "      <td>...</td>\n",
              "      <td>...</td>\n",
              "    </tr>\n",
              "    <tr>\n",
              "      <th>293</th>\n",
              "      <td>gs://trump-political-ads-sample/FCC/docs/8206c...</td>\n",
              "      <td>8206cefa-dbc6-6ea7-18ec-8ccd39b8de3d</td>\n",
              "      <td>KVCW TRUMP 6204465 NAB</td>\n",
              "      <td>gs://trump-political-ads-sample/FCC/docs/8206c...</td>\n",
              "      <td>True</td>\n",
              "    </tr>\n",
              "    <tr>\n",
              "      <th>294</th>\n",
              "      <td>gs://trump-political-ads-sample/FCC/docs/13f70...</td>\n",
              "      <td>13f70763-ec76-8496-c5e2-c5509f977181</td>\n",
              "      <td>Trump - ACC 10.5</td>\n",
              "      <td>gs://trump-political-ads-sample/FCC/docs/13f70...</td>\n",
              "      <td>True</td>\n",
              "    </tr>\n",
              "    <tr>\n",
              "      <th>295</th>\n",
              "      <td>gs://trump-political-ads-sample/FCC/docs/551c8...</td>\n",
              "      <td>551c8e8f-fa9f-ebcb-916f-cf8c01d9908f</td>\n",
              "      <td>COMPLETE DONALD J TRUMP FOR PRESIDENT WRAZ EST...</td>\n",
              "      <td>gs://trump-political-ads-sample/FCC/docs/551c8...</td>\n",
              "      <td>True</td>\n",
              "    </tr>\n",
              "    <tr>\n",
              "      <th>296</th>\n",
              "      <td>gs://trump-political-ads-sample/FCC/docs/f281b...</td>\n",
              "      <td>f281bd07-fd54-b21e-7e8d-ffe2f80968ed</td>\n",
              "      <td>DONALD TRUMP FOR PRES- 4633326-1 - INVOICE</td>\n",
              "      <td>gs://trump-political-ads-sample/FCC/docs/f281b...</td>\n",
              "      <td>True</td>\n",
              "    </tr>\n",
              "    <tr>\n",
              "      <th>297</th>\n",
              "      <td>gs://trump-political-ads-sample/FCC/docs/fec1b...</td>\n",
              "      <td>fec1b609-ac8f-72a5-bbf1-2898c038f221</td>\n",
              "      <td>KSAZ DJT est  11731 1381105--1 rev2</td>\n",
              "      <td>gs://trump-political-ads-sample/FCC/docs/fec1b...</td>\n",
              "      <td>True</td>\n",
              "    </tr>\n",
              "  </tbody>\n",
              "</table>\n",
              "<p>100 rows × 5 columns</p>\n",
              "</div>\n",
              "    <div class=\"colab-df-buttons\">\n",
              "\n",
              "  <div class=\"colab-df-container\">\n",
              "    <button class=\"colab-df-convert\" onclick=\"convertToInteractive('df-d66b2125-7aa1-4324-bf3f-2019b05e641f')\"\n",
              "            title=\"Convert this dataframe to an interactive table.\"\n",
              "            style=\"display:none;\">\n",
              "\n",
              "  <svg xmlns=\"http://www.w3.org/2000/svg\" height=\"24px\" viewBox=\"0 -960 960 960\">\n",
              "    <path d=\"M120-120v-720h720v720H120Zm60-500h600v-160H180v160Zm220 220h160v-160H400v160Zm0 220h160v-160H400v160ZM180-400h160v-160H180v160Zm440 0h160v-160H620v160ZM180-180h160v-160H180v160Zm440 0h160v-160H620v160Z\"/>\n",
              "  </svg>\n",
              "    </button>\n",
              "\n",
              "  <style>\n",
              "    .colab-df-container {\n",
              "      display:flex;\n",
              "      gap: 12px;\n",
              "    }\n",
              "\n",
              "    .colab-df-convert {\n",
              "      background-color: #E8F0FE;\n",
              "      border: none;\n",
              "      border-radius: 50%;\n",
              "      cursor: pointer;\n",
              "      display: none;\n",
              "      fill: #1967D2;\n",
              "      height: 32px;\n",
              "      padding: 0 0 0 0;\n",
              "      width: 32px;\n",
              "    }\n",
              "\n",
              "    .colab-df-convert:hover {\n",
              "      background-color: #E2EBFA;\n",
              "      box-shadow: 0px 1px 2px rgba(60, 64, 67, 0.3), 0px 1px 3px 1px rgba(60, 64, 67, 0.15);\n",
              "      fill: #174EA6;\n",
              "    }\n",
              "\n",
              "    .colab-df-buttons div {\n",
              "      margin-bottom: 4px;\n",
              "    }\n",
              "\n",
              "    [theme=dark] .colab-df-convert {\n",
              "      background-color: #3B4455;\n",
              "      fill: #D2E3FC;\n",
              "    }\n",
              "\n",
              "    [theme=dark] .colab-df-convert:hover {\n",
              "      background-color: #434B5C;\n",
              "      box-shadow: 0px 1px 3px 1px rgba(0, 0, 0, 0.15);\n",
              "      filter: drop-shadow(0px 1px 2px rgba(0, 0, 0, 0.3));\n",
              "      fill: #FFFFFF;\n",
              "    }\n",
              "  </style>\n",
              "\n",
              "    <script>\n",
              "      const buttonEl =\n",
              "        document.querySelector('#df-d66b2125-7aa1-4324-bf3f-2019b05e641f button.colab-df-convert');\n",
              "      buttonEl.style.display =\n",
              "        google.colab.kernel.accessAllowed ? 'block' : 'none';\n",
              "\n",
              "      async function convertToInteractive(key) {\n",
              "        const element = document.querySelector('#df-d66b2125-7aa1-4324-bf3f-2019b05e641f');\n",
              "        const dataTable =\n",
              "          await google.colab.kernel.invokeFunction('convertToInteractive',\n",
              "                                                    [key], {});\n",
              "        if (!dataTable) return;\n",
              "\n",
              "        const docLinkHtml = 'Like what you see? Visit the ' +\n",
              "          '<a target=\"_blank\" href=https://colab.research.google.com/notebooks/data_table.ipynb>data table notebook</a>'\n",
              "          + ' to learn more about interactive tables.';\n",
              "        element.innerHTML = '';\n",
              "        dataTable['output_type'] = 'display_data';\n",
              "        await google.colab.output.renderOutput(dataTable, element);\n",
              "        const docLink = document.createElement('div');\n",
              "        docLink.innerHTML = docLinkHtml;\n",
              "        element.appendChild(docLink);\n",
              "      }\n",
              "    </script>\n",
              "  </div>\n",
              "\n",
              "\n",
              "    <div id=\"df-bc90548b-12f8-4c14-abc6-0d4e686b7c72\">\n",
              "      <button class=\"colab-df-quickchart\" onclick=\"quickchart('df-bc90548b-12f8-4c14-abc6-0d4e686b7c72')\"\n",
              "                title=\"Suggest charts\"\n",
              "                style=\"display:none;\">\n",
              "\n",
              "<svg xmlns=\"http://www.w3.org/2000/svg\" height=\"24px\"viewBox=\"0 0 24 24\"\n",
              "     width=\"24px\">\n",
              "    <g>\n",
              "        <path d=\"M19 3H5c-1.1 0-2 .9-2 2v14c0 1.1.9 2 2 2h14c1.1 0 2-.9 2-2V5c0-1.1-.9-2-2-2zM9 17H7v-7h2v7zm4 0h-2V7h2v10zm4 0h-2v-4h2v4z\"/>\n",
              "    </g>\n",
              "</svg>\n",
              "      </button>\n",
              "\n",
              "<style>\n",
              "  .colab-df-quickchart {\n",
              "      --bg-color: #E8F0FE;\n",
              "      --fill-color: #1967D2;\n",
              "      --hover-bg-color: #E2EBFA;\n",
              "      --hover-fill-color: #174EA6;\n",
              "      --disabled-fill-color: #AAA;\n",
              "      --disabled-bg-color: #DDD;\n",
              "  }\n",
              "\n",
              "  [theme=dark] .colab-df-quickchart {\n",
              "      --bg-color: #3B4455;\n",
              "      --fill-color: #D2E3FC;\n",
              "      --hover-bg-color: #434B5C;\n",
              "      --hover-fill-color: #FFFFFF;\n",
              "      --disabled-bg-color: #3B4455;\n",
              "      --disabled-fill-color: #666;\n",
              "  }\n",
              "\n",
              "  .colab-df-quickchart {\n",
              "    background-color: var(--bg-color);\n",
              "    border: none;\n",
              "    border-radius: 50%;\n",
              "    cursor: pointer;\n",
              "    display: none;\n",
              "    fill: var(--fill-color);\n",
              "    height: 32px;\n",
              "    padding: 0;\n",
              "    width: 32px;\n",
              "  }\n",
              "\n",
              "  .colab-df-quickchart:hover {\n",
              "    background-color: var(--hover-bg-color);\n",
              "    box-shadow: 0 1px 2px rgba(60, 64, 67, 0.3), 0 1px 3px 1px rgba(60, 64, 67, 0.15);\n",
              "    fill: var(--button-hover-fill-color);\n",
              "  }\n",
              "\n",
              "  .colab-df-quickchart-complete:disabled,\n",
              "  .colab-df-quickchart-complete:disabled:hover {\n",
              "    background-color: var(--disabled-bg-color);\n",
              "    fill: var(--disabled-fill-color);\n",
              "    box-shadow: none;\n",
              "  }\n",
              "\n",
              "  .colab-df-spinner {\n",
              "    border: 2px solid var(--fill-color);\n",
              "    border-color: transparent;\n",
              "    border-bottom-color: var(--fill-color);\n",
              "    animation:\n",
              "      spin 1s steps(1) infinite;\n",
              "  }\n",
              "\n",
              "  @keyframes spin {\n",
              "    0% {\n",
              "      border-color: transparent;\n",
              "      border-bottom-color: var(--fill-color);\n",
              "      border-left-color: var(--fill-color);\n",
              "    }\n",
              "    20% {\n",
              "      border-color: transparent;\n",
              "      border-left-color: var(--fill-color);\n",
              "      border-top-color: var(--fill-color);\n",
              "    }\n",
              "    30% {\n",
              "      border-color: transparent;\n",
              "      border-left-color: var(--fill-color);\n",
              "      border-top-color: var(--fill-color);\n",
              "      border-right-color: var(--fill-color);\n",
              "    }\n",
              "    40% {\n",
              "      border-color: transparent;\n",
              "      border-right-color: var(--fill-color);\n",
              "      border-top-color: var(--fill-color);\n",
              "    }\n",
              "    60% {\n",
              "      border-color: transparent;\n",
              "      border-right-color: var(--fill-color);\n",
              "    }\n",
              "    80% {\n",
              "      border-color: transparent;\n",
              "      border-right-color: var(--fill-color);\n",
              "      border-bottom-color: var(--fill-color);\n",
              "    }\n",
              "    90% {\n",
              "      border-color: transparent;\n",
              "      border-bottom-color: var(--fill-color);\n",
              "    }\n",
              "  }\n",
              "</style>\n",
              "\n",
              "      <script>\n",
              "        async function quickchart(key) {\n",
              "          const quickchartButtonEl =\n",
              "            document.querySelector('#' + key + ' button');\n",
              "          quickchartButtonEl.disabled = true;  // To prevent multiple clicks.\n",
              "          quickchartButtonEl.classList.add('colab-df-spinner');\n",
              "          try {\n",
              "            const charts = await google.colab.kernel.invokeFunction(\n",
              "                'suggestCharts', [key], {});\n",
              "          } catch (error) {\n",
              "            console.error('Error during call to suggestCharts:', error);\n",
              "          }\n",
              "          quickchartButtonEl.classList.remove('colab-df-spinner');\n",
              "          quickchartButtonEl.classList.add('colab-df-quickchart-complete');\n",
              "        }\n",
              "        (() => {\n",
              "          let quickchartButtonEl =\n",
              "            document.querySelector('#df-bc90548b-12f8-4c14-abc6-0d4e686b7c72 button');\n",
              "          quickchartButtonEl.style.display =\n",
              "            google.colab.kernel.accessAllowed ? 'block' : 'none';\n",
              "        })();\n",
              "      </script>\n",
              "    </div>\n",
              "\n",
              "    </div>\n",
              "  </div>\n"
            ],
            "application/vnd.google.colaboratory.intrinsic+json": {
              "type": "dataframe",
              "summary": "{\n  \"name\": \"df\",\n  \"rows\": 100,\n  \"fields\": [\n    {\n      \"column\": \"pdf_key\",\n      \"properties\": {\n        \"dtype\": \"string\",\n        \"num_unique_values\": 100,\n        \"samples\": [\n          \"gs://trump-political-ads-sample/FCC/docs/4eb143ae-ffb7-07a5-459a-2aaa614c6f0e/A9840-NAB-112292-10.1724/doc.pdf\",\n          \"gs://trump-political-ads-sample/FCC/docs/58d0b258-2c00-38ae-4ec2-9fe0710be204/Donald Trump 4643303-1 November Invoice/doc.pdf\",\n          \"gs://trump-political-ads-sample/FCC/docs/47d1e308-5054-ca4e-d78b-29be1b272ec1/3837195-1 KETV EST10958 INVOICE/doc.pdf\"\n        ],\n        \"semantic_type\": \"\",\n        \"description\": \"\"\n      }\n    },\n    {\n      \"column\": \"file_id\",\n      \"properties\": {\n        \"dtype\": \"string\",\n        \"num_unique_values\": 100,\n        \"samples\": [\n          \"4eb143ae-ffb7-07a5-459a-2aaa614c6f0e\",\n          \"58d0b258-2c00-38ae-4ec2-9fe0710be204\",\n          \"47d1e308-5054-ca4e-d78b-29be1b272ec1\"\n        ],\n        \"semantic_type\": \"\",\n        \"description\": \"\"\n      }\n    },\n    {\n      \"column\": \"file_name\",\n      \"properties\": {\n        \"dtype\": \"string\",\n        \"num_unique_values\": 100,\n        \"samples\": [\n          \"A9840-NAB-112292-10.1724\",\n          \"Donald Trump 4643303-1 November Invoice\",\n          \"3837195-1 KETV EST10958 INVOICE\"\n        ],\n        \"semantic_type\": \"\",\n        \"description\": \"\"\n      }\n    },\n    {\n      \"column\": \"image_key\",\n      \"properties\": {\n        \"dtype\": \"string\",\n        \"num_unique_values\": 100,\n        \"samples\": [\n          \"gs://trump-political-ads-sample/FCC/docs/4eb143ae-ffb7-07a5-459a-2aaa614c6f0e/A9840-NAB-112292-10.1724/page_1.png\",\n          \"gs://trump-political-ads-sample/FCC/docs/58d0b258-2c00-38ae-4ec2-9fe0710be204/Donald Trump 4643303-1 November Invoice/page_1.png\",\n          \"gs://trump-political-ads-sample/FCC/docs/47d1e308-5054-ca4e-d78b-29be1b272ec1/3837195-1 KETV EST10958 INVOICE/page_1.png\"\n        ],\n        \"semantic_type\": \"\",\n        \"description\": \"\"\n      }\n    },\n    {\n      \"column\": \"is_invoice\",\n      \"properties\": {\n        \"dtype\": \"boolean\",\n        \"num_unique_values\": 1,\n        \"samples\": [\n          true\n        ],\n        \"semantic_type\": \"\",\n        \"description\": \"\"\n      }\n    }\n  ]\n}"
            }
          },
          "metadata": {},
          "execution_count": 75
        }
      ]
    }
  ]
}